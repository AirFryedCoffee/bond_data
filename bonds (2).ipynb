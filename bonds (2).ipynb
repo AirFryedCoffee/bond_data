{
 "cells": [
  {
   "cell_type": "code",
   "execution_count": 19,
   "id": "9fc3a3dc-6892-42e9-92b2-09cfc3d65294",
   "metadata": {},
   "outputs": [],
   "source": [
    "import pandas as pd"
   ]
  },
  {
   "cell_type": "code",
   "execution_count": 20,
   "id": "42527c37-6a26-4916-bdb9-56d91751736e",
   "metadata": {},
   "outputs": [],
   "source": [
    "import os "
   ]
  },
  {
   "cell_type": "code",
   "execution_count": 21,
   "id": "77cac43f-83c4-4dc6-b159-c22c4479191f",
   "metadata": {},
   "outputs": [],
   "source": [
    "from datetime import datetime as dt"
   ]
  },
  {
   "cell_type": "code",
   "execution_count": 74,
   "id": "459fd3ce-0031-43bd-9f29-651fc7367d12",
   "metadata": {},
   "outputs": [],
   "source": [
    "import matplotlib.pyplot as plt"
   ]
  },
  {
   "cell_type": "code",
   "execution_count": 89,
   "id": "c799d7d9-09c5-492c-86e8-cdb8dd3b0f76",
   "metadata": {},
   "outputs": [],
   "source": [
    "import numpy as np"
   ]
  },
  {
   "cell_type": "code",
   "execution_count": 6,
   "id": "ada436a7-9ab7-45cc-8004-ffe1234c316c",
   "metadata": {},
   "outputs": [],
   "source": [
    "desktop_path = os.path.join(os.path.expanduser(\"~\"), 'Desktop')"
   ]
  },
  {
   "cell_type": "code",
   "execution_count": 7,
   "id": "890520d4-8fa9-4e77-a9df-a61df63d2926",
   "metadata": {},
   "outputs": [],
   "source": [
    "treasury_yield_df = pd.read_csv(os.path.join(desktop_path, '10ytrescsv.csv'))"
   ]
  },
  {
   "cell_type": "code",
   "execution_count": 57,
   "id": "9f9cee0f-f312-41b2-9467-a90109e0e853",
   "metadata": {},
   "outputs": [],
   "source": [
    "unemployment_df = pd.read_csv(os.path.join(desktop_path, 'unemploymentrate.csv'))"
   ]
  },
  {
   "cell_type": "code",
   "execution_count": 18,
   "id": "6199836f-e378-49dc-bcf1-3b111c56df94",
   "metadata": {},
   "outputs": [
    {
     "name": "stdout",
     "output_type": "stream",
     "text": [
      "          DATE T10Y2Y\n",
      "0   2018-10-22   0.28\n",
      "1   2018-10-23   0.28\n",
      "2   2018-10-24   0.26\n",
      "3   2018-10-25   0.28\n",
      "4   2018-10-26   0.27\n",
      "5   2018-10-29   0.27\n",
      "6   2018-10-30   0.28\n",
      "7   2018-10-31   0.28\n",
      "8   2018-11-01    0.3\n",
      "9   2018-11-02   0.31\n",
      "10  2018-11-05   0.29\n",
      "11  2018-11-06   0.29\n",
      "12  2018-11-07   0.26\n",
      "13  2018-11-08   0.26\n",
      "14  2018-11-09   0.25\n",
      "15  2018-11-12      .\n",
      "16  2018-11-13   0.25\n",
      "17  2018-11-14   0.26\n",
      "18  2018-11-15   0.25\n",
      "19  2018-11-16   0.27\n"
     ]
    }
   ],
   "source": [
    "print(treasury_yield_df.head(20))"
   ]
  },
  {
   "cell_type": "code",
   "execution_count": 30,
   "id": "4da63a83-a3f4-4937-90a5-87c0c685f2cd",
   "metadata": {},
   "outputs": [],
   "source": [
    "treasury_yield_df['DATE'] = pd.to_datetime(treasury_yield_df['DATE'])"
   ]
  },
  {
   "cell_type": "code",
   "execution_count": 65,
   "id": "567bb619-c595-4bc0-8a73-b71f0ce51e35",
   "metadata": {},
   "outputs": [],
   "source": [
    "unemployment_df['DATE'] = unemployment_df['DATE'].dt.to_period('M') "
   ]
  },
  {
   "cell_type": "code",
   "execution_count": 38,
   "id": "8de69d1c-63eb-44db-af64-20fcf436fa77",
   "metadata": {},
   "outputs": [],
   "source": [
    "treasury_yield_df['T10Y2Y'] = pd.to_numeric(treasury_yield_df['T10Y2Y'], errors = 'coerce')"
   ]
  },
  {
   "cell_type": "code",
   "execution_count": 52,
   "id": "973ceafc-a1be-4943-8169-97ad44ab956a",
   "metadata": {},
   "outputs": [],
   "source": [
    "treasury_yield_df['month'] = treasury_yield_df['DATE'].dt.to_period('M')"
   ]
  },
  {
   "cell_type": "code",
   "execution_count": 56,
   "id": "93084487-e0ae-4fb8-880d-82ebb768ae06",
   "metadata": {},
   "outputs": [],
   "source": [
    "#print(treasury_yield_df.head(20))"
   ]
  },
  {
   "cell_type": "code",
   "execution_count": 47,
   "id": "861f28de-66c2-45f5-b211-a99d5177fd3e",
   "metadata": {},
   "outputs": [],
   "source": [
    "monthly_avg_yield_df = treasury_yield_df.groupby('Month')['T10Y2Y'].mean().reset_index()"
   ]
  },
  {
   "cell_type": "code",
   "execution_count": 49,
   "id": "534031f2-56ac-4d35-a64c-60baba2089ba",
   "metadata": {},
   "outputs": [
    {
     "name": "stdout",
     "output_type": "stream",
     "text": [
      "      Month  T10Y2Y\n",
      "0   2018-10    0.28\n",
      "1   2018-11    0.26\n",
      "2   2018-12    0.16\n",
      "3   2019-01    0.17\n",
      "4   2019-02    0.17\n",
      "..      ...     ...\n",
      "56  2023-06   -0.89\n",
      "57  2023-07   -0.93\n",
      "58  2023-08   -0.73\n",
      "59  2023-09   -0.64\n",
      "60  2023-10   -0.32\n",
      "\n",
      "[61 rows x 2 columns]\n"
     ]
    }
   ],
   "source": [
    "print(monthly_avg_yield_df.round(2))"
   ]
  },
  {
   "cell_type": "code",
   "execution_count": 58,
   "id": "10e9b86b-f4d2-45f0-953a-2e9d18926290",
   "metadata": {},
   "outputs": [
    {
     "name": "stdout",
     "output_type": "stream",
     "text": [
      "         DATE  UNRATE\n",
      "0  1948-01-01     3.4\n",
      "1  1948-02-01     3.8\n",
      "2  1948-03-01     4.0\n",
      "3  1948-04-01     3.9\n",
      "4  1948-05-01     3.5\n",
      "5  1948-06-01     3.6\n",
      "6  1948-07-01     3.6\n",
      "7  1948-08-01     3.9\n",
      "8  1948-09-01     3.8\n",
      "9  1948-10-01     3.7\n"
     ]
    }
   ],
   "source": [
    "print(unemployment_df.head(10))"
   ]
  },
  {
   "cell_type": "code",
   "execution_count": 59,
   "id": "dd61dd0f-f9b1-4abf-8aef-029ee91551a6",
   "metadata": {},
   "outputs": [],
   "source": [
    "unemployment_df['DATE'] = pd.to_datetime(unemployment_df['DATE'])"
   ]
  },
  {
   "cell_type": "code",
   "execution_count": 60,
   "id": "4590ea80-3a4e-4c1e-bece-e4d5f287b7bc",
   "metadata": {},
   "outputs": [],
   "source": [
    "unemployment_df = unemployment_df[unemployment_df['DATE'] >= '2018-10-01']"
   ]
  },
  {
   "cell_type": "code",
   "execution_count": 68,
   "id": "1c1308db-8010-4e6c-a050-74a05e260b20",
   "metadata": {},
   "outputs": [
    {
     "name": "stdout",
     "output_type": "stream",
     "text": [
      "        DATE  UNRATE\n",
      "849  2018-10     3.8\n",
      "850  2018-11     3.8\n",
      "851  2018-12     3.9\n",
      "852  2019-01     4.0\n",
      "853  2019-02     3.8\n",
      "854  2019-03     3.8\n",
      "855  2019-04     3.6\n",
      "856  2019-05     3.7\n",
      "857  2019-06     3.6\n",
      "858  2019-07     3.7\n",
      "859  2019-08     3.7\n",
      "860  2019-09     3.5\n",
      "861  2019-10     3.6\n",
      "862  2019-11     3.6\n",
      "863  2019-12     3.6\n",
      "864  2020-01     3.5\n",
      "865  2020-02     3.5\n",
      "866  2020-03     4.4\n",
      "867  2020-04    14.7\n",
      "868  2020-05    13.2\n",
      "869  2020-06    11.0\n",
      "870  2020-07    10.2\n",
      "871  2020-08     8.4\n",
      "872  2020-09     7.9\n",
      "873  2020-10     6.9\n",
      "874  2020-11     6.7\n",
      "875  2020-12     6.7\n",
      "876  2021-01     6.3\n",
      "877  2021-02     6.2\n",
      "878  2021-03     6.1\n",
      "879  2021-04     6.1\n",
      "880  2021-05     5.8\n",
      "881  2021-06     5.9\n",
      "882  2021-07     5.4\n",
      "883  2021-08     5.2\n",
      "884  2021-09     4.8\n",
      "885  2021-10     4.5\n",
      "886  2021-11     4.2\n",
      "887  2021-12     3.9\n",
      "888  2022-01     4.0\n",
      "889  2022-02     3.8\n",
      "890  2022-03     3.6\n",
      "891  2022-04     3.6\n",
      "892  2022-05     3.6\n",
      "893  2022-06     3.6\n",
      "894  2022-07     3.5\n",
      "895  2022-08     3.7\n",
      "896  2022-09     3.5\n",
      "897  2022-10     3.7\n",
      "898  2022-11     3.6\n",
      "899  2022-12     3.5\n",
      "900  2023-01     3.4\n",
      "901  2023-02     3.6\n",
      "902  2023-03     3.5\n",
      "903  2023-04     3.4\n",
      "904  2023-05     3.7\n",
      "905  2023-06     3.6\n",
      "906  2023-07     3.5\n",
      "907  2023-08     3.8\n",
      "908  2023-09     3.8\n"
     ]
    }
   ],
   "source": [
    "print(unemployment_df)"
   ]
  },
  {
   "cell_type": "code",
   "execution_count": 71,
   "id": "6af62f4a-295e-4bc1-9ab0-bb598318ffab",
   "metadata": {},
   "outputs": [],
   "source": [
    "merged_dataframe = pd.merge(monthly_avg_yield_df.round(2), unemployment_df, left_on= \"Month\", right_on= \"DATE\", how='inner')"
   ]
  },
  {
   "cell_type": "code",
   "execution_count": 72,
   "id": "d3258e2c-17f5-4045-9f9a-49e46f3919b5",
   "metadata": {},
   "outputs": [
    {
     "name": "stdout",
     "output_type": "stream",
     "text": [
      "      Month  T10Y2Y     DATE  UNRATE\n",
      "0   2018-10    0.28  2018-10     3.8\n",
      "1   2018-11    0.26  2018-11     3.8\n",
      "2   2018-12    0.16  2018-12     3.9\n",
      "3   2019-01    0.17  2019-01     4.0\n",
      "4   2019-02    0.17  2019-02     3.8\n",
      "5   2019-03    0.16  2019-03     3.8\n",
      "6   2019-04    0.19  2019-04     3.6\n",
      "7   2019-05    0.19  2019-05     3.7\n",
      "8   2019-06    0.26  2019-06     3.6\n",
      "9   2019-07    0.22  2019-07     3.7\n",
      "10  2019-08    0.06  2019-08     3.7\n",
      "11  2019-09    0.05  2019-09     3.5\n",
      "12  2019-10    0.16  2019-10     3.6\n",
      "13  2019-11    0.20  2019-11     3.6\n",
      "14  2019-12    0.25  2019-12     3.6\n",
      "15  2020-01    0.24  2020-01     3.5\n",
      "16  2020-02    0.17  2020-02     3.5\n",
      "17  2020-03    0.42  2020-03     4.4\n",
      "18  2020-04    0.43  2020-04    14.7\n",
      "19  2020-05    0.50  2020-05    13.2\n",
      "20  2020-06    0.54  2020-06    11.0\n",
      "21  2020-07    0.48  2020-07    10.2\n",
      "22  2020-08    0.51  2020-08     8.4\n",
      "23  2020-09    0.54  2020-09     7.9\n",
      "24  2020-10    0.64  2020-10     6.9\n",
      "25  2020-11    0.70  2020-11     6.7\n",
      "26  2020-12    0.80  2020-12     6.7\n",
      "27  2021-01    0.95  2021-01     6.3\n",
      "28  2021-02    1.14  2021-02     6.2\n",
      "29  2021-03    1.46  2021-03     6.1\n",
      "30  2021-04    1.47  2021-04     6.1\n",
      "31  2021-05    1.47  2021-05     5.8\n",
      "32  2021-06    1.32  2021-06     5.9\n",
      "33  2021-07    1.10  2021-07     5.4\n",
      "34  2021-08    1.07  2021-08     5.2\n",
      "35  2021-09    1.13  2021-09     4.8\n",
      "36  2021-10    1.19  2021-10     4.5\n",
      "37  2021-11    1.05  2021-11     4.2\n",
      "38  2021-12    0.78  2021-12     3.9\n",
      "39  2022-01    0.78  2022-01     4.0\n",
      "40  2022-02    0.50  2022-02     3.8\n",
      "41  2022-03    0.22  2022-03     3.6\n",
      "42  2022-04    0.21  2022-04     3.6\n",
      "43  2022-05    0.28  2022-05     3.6\n",
      "44  2022-06    0.15  2022-06     3.6\n",
      "45  2022-07   -0.14  2022-07     3.5\n",
      "46  2022-08   -0.35  2022-08     3.7\n",
      "47  2022-09   -0.34  2022-09     3.5\n",
      "48  2022-10   -0.39  2022-10     3.7\n",
      "49  2022-11   -0.61  2022-11     3.6\n",
      "50  2022-12   -0.67  2022-12     3.5\n",
      "51  2023-01   -0.68  2023-01     3.4\n",
      "52  2023-02   -0.79  2023-02     3.6\n",
      "53  2023-03   -0.64  2023-03     3.5\n",
      "54  2023-04   -0.56  2023-04     3.4\n",
      "55  2023-05   -0.56  2023-05     3.7\n",
      "56  2023-06   -0.89  2023-06     3.6\n",
      "57  2023-07   -0.93  2023-07     3.5\n",
      "58  2023-08   -0.73  2023-08     3.8\n",
      "59  2023-09   -0.64  2023-09     3.8\n"
     ]
    }
   ],
   "source": [
    "print(merged_dataframe)"
   ]
  },
  {
   "cell_type": "code",
   "execution_count": 75,
   "id": "d8486ed7-bcef-4927-828a-282dbf8d569d",
   "metadata": {},
   "outputs": [
    {
     "data": {
      "text/plain": [
       "<Figure size 1000x600 with 0 Axes>"
      ]
     },
     "execution_count": 75,
     "metadata": {},
     "output_type": "execute_result"
    },
    {
     "data": {
      "text/plain": [
       "<Figure size 1000x600 with 0 Axes>"
      ]
     },
     "metadata": {},
     "output_type": "display_data"
    }
   ],
   "source": [
    "plt.figure(figsize=(10,6))"
   ]
  },
  {
   "cell_type": "code",
   "execution_count": 83,
   "id": "8db82894-f7c5-433b-9e45-e08cd180d7de",
   "metadata": {},
   "outputs": [],
   "source": [
    "merged_dataframe['Month'] = merged_dataframe['Month'].astype(str)"
   ]
  },
  {
   "cell_type": "code",
   "execution_count": 93,
   "id": "be70b0ec-4844-431d-ab66-e74c6dcee7ca",
   "metadata": {},
   "outputs": [
    {
     "data": {
      "text/plain": [
       "([<matplotlib.axis.XTick at 0x169cfec50>,\n",
       "  <matplotlib.axis.XTick at 0x169cfcc50>,\n",
       "  <matplotlib.axis.XTick at 0x169d08210>,\n",
       "  <matplotlib.axis.XTick at 0x169d2ef10>,\n",
       "  <matplotlib.axis.XTick at 0x169d35150>,\n",
       "  <matplotlib.axis.XTick at 0x169d37450>,\n",
       "  <matplotlib.axis.XTick at 0x169d35790>,\n",
       "  <matplotlib.axis.XTick at 0x169d4e750>,\n",
       "  <matplotlib.axis.XTick at 0x169d509d0>,\n",
       "  <matplotlib.axis.XTick at 0x169d52d90>,\n",
       "  <matplotlib.axis.XTick at 0x169d55190>,\n",
       "  <matplotlib.axis.XTick at 0x169d57410>,\n",
       "  <matplotlib.axis.XTick at 0x169d57b10>,\n",
       "  <matplotlib.axis.XTick at 0x169d59fd0>,\n",
       "  <matplotlib.axis.XTick at 0x169d5c290>,\n",
       "  <matplotlib.axis.XTick at 0x169d5e4d0>,\n",
       "  <matplotlib.axis.XTick at 0x169d64790>,\n",
       "  <matplotlib.axis.XTick at 0x169d59490>,\n",
       "  <matplotlib.axis.XTick at 0x169d66ed0>,\n",
       "  <matplotlib.axis.XTick at 0x169d70f90>],\n",
       " [Text(0, 0, '2018-10'),\n",
       "  Text(3, 0, '2019-01'),\n",
       "  Text(6, 0, '2019-04'),\n",
       "  Text(9, 0, '2019-07'),\n",
       "  Text(12, 0, '2019-10'),\n",
       "  Text(15, 0, '2020-01'),\n",
       "  Text(18, 0, '2020-04'),\n",
       "  Text(21, 0, '2020-07'),\n",
       "  Text(24, 0, '2020-10'),\n",
       "  Text(27, 0, '2021-01'),\n",
       "  Text(30, 0, '2021-04'),\n",
       "  Text(33, 0, '2021-07'),\n",
       "  Text(36, 0, '2021-10'),\n",
       "  Text(39, 0, '2022-01'),\n",
       "  Text(42, 0, '2022-04'),\n",
       "  Text(45, 0, '2022-07'),\n",
       "  Text(48, 0, '2022-10'),\n",
       "  Text(51, 0, '2023-01'),\n",
       "  Text(54, 0, '2023-04'),\n",
       "  Text(57, 0, '2023-07')])"
      ]
     },
     "execution_count": 93,
     "metadata": {},
     "output_type": "execute_result"
    },
    {
     "data": {
      "image/png": "[encoded data removed]",
      "text/plain": [
       "<Figure size 640x480 with 1 Axes>"
      ]
     },
     "metadata": {},
     "output_type": "display_data"
    }
   ],
   "source": [
    "plt.plot(merged_dataframe['Month'], merged_dataframe['T10Y2Y'], label = 'Average Yield', marker='o')\n",
    "plt.xticks(np.arange(0, len(merged_dataframe['Month']), step=3), merged_dataframe['Month'][::3], rotation=45)"
   ]
  },
  {
   "cell_type": "code",
   "execution_count": 81,
   "id": "ba00638f-ccb8-4b15-a77a-a825d32535ad",
   "metadata": {},
   "outputs": [],
   "source": [
    "merged_dataframe['DATE'] = merged_dataframe['DATE'].astype(str)"
   ]
  },
  {
   "cell_type": "code",
   "execution_count": 92,
   "id": "a45b520e-90a3-4cb0-8099-b010967d11e4",
   "metadata": {},
   "outputs": [
    {
     "data": {
      "text/plain": [
       "([<matplotlib.axis.XTick at 0x169b86010>,\n",
       "  <matplotlib.axis.XTick at 0x169c45990>,\n",
       "  <matplotlib.axis.XTick at 0x169bbb4d0>,\n",
       "  <matplotlib.axis.XTick at 0x169ca1690>,\n",
       "  <matplotlib.axis.XTick at 0x169ca3890>,\n",
       "  <matplotlib.axis.XTick at 0x169cadc10>,\n",
       "  <matplotlib.axis.XTick at 0x169ca0e10>,\n",
       "  <matplotlib.axis.XTick at 0x169cafe50>,\n",
       "  <matplotlib.axis.XTick at 0x169cb1f50>,\n",
       "  <matplotlib.axis.XTick at 0x169cb3f50>,\n",
       "  <matplotlib.axis.XTick at 0x169cb6190>,\n",
       "  <matplotlib.axis.XTick at 0x169cbc490>,\n",
       "  <matplotlib.axis.XTick at 0x169caf850>,\n",
       "  <matplotlib.axis.XTick at 0x169cbeb50>,\n",
       "  <matplotlib.axis.XTick at 0x169cb8d10>,\n",
       "  <matplotlib.axis.XTick at 0x169cbad90>,\n",
       "  <matplotlib.axis.XTick at 0x169cccf50>,\n",
       "  <matplotlib.axis.XTick at 0x169cb9450>,\n",
       "  <matplotlib.axis.XTick at 0x169ccf9d0>,\n",
       "  <matplotlib.axis.XTick at 0x169cd1b50>],\n",
       " [Text(0, 0, '2018-10'),\n",
       "  Text(3, 0, '2019-01'),\n",
       "  Text(6, 0, '2019-04'),\n",
       "  Text(9, 0, '2019-07'),\n",
       "  Text(12, 0, '2019-10'),\n",
       "  Text(15, 0, '2020-01'),\n",
       "  Text(18, 0, '2020-04'),\n",
       "  Text(21, 0, '2020-07'),\n",
       "  Text(24, 0, '2020-10'),\n",
       "  Text(27, 0, '2021-01'),\n",
       "  Text(30, 0, '2021-04'),\n",
       "  Text(33, 0, '2021-07'),\n",
       "  Text(36, 0, '2021-10'),\n",
       "  Text(39, 0, '2022-01'),\n",
       "  Text(42, 0, '2022-04'),\n",
       "  Text(45, 0, '2022-07'),\n",
       "  Text(48, 0, '2022-10'),\n",
       "  Text(51, 0, '2023-01'),\n",
       "  Text(54, 0, '2023-04'),\n",
       "  Text(57, 0, '2023-07')])"
      ]
     },
     "execution_count": 92,
     "metadata": {},
     "output_type": "execute_result"
    },
    {
     "data": {
      "image/png": "[encoded data removed]",
      "text/plain": [
       "<Figure size 640x480 with 1 Axes>"
      ]
     },
     "metadata": {},
     "output_type": "display_data"
    }
   ],
   "source": [
    "plt.plot(merged_dataframe['DATE'], merged_dataframe['UNRATE'], label = 'Unemployment Rate', marker = 'o')\n",
    "plt.xticks(np.arange(0, len(merged_dataframe['DATE']), step=3), merged_dataframe['DATE'][::3], rotation=45)"
   ]
  },
  {
   "cell_type": "code",
   "execution_count": null,
   "id": "92048980-b234-4371-b9f4-5e59789e0012",
   "metadata": {},
   "outputs": [],
   "source": []
  }
 ],
 "metadata": {
  "kernelspec": {
   "display_name": "Python 3 (ipykernel)",
   "language": "python",
   "name": "python3"
  },
  "language_info": {
   "codemirror_mode": {
    "name": "ipython",
    "version": 3
   },
   "file_extension": ".py",
   "mimetype": "text/x-python",
   "name": "python",
   "nbconvert_exporter": "python",
   "pygments_lexer": "ipython3",
   "version": "3.11.0"
  }
 },
 "nbformat": 4,
 "nbformat_minor": 5
}
